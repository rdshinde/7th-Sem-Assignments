{
  "cells": [
    {
      "cell_type": "code",
      "execution_count": 2,
      "metadata": {
        "id": "VwaKnkCUeaNf"
      },
      "outputs": [],
      "source": [
        "import pandas as pd\n",
        "import numpy as np\n",
        "import seaborn as sns\n",
        "import matplotlib.pyplot as plt"
      ]
    },
    {
      "cell_type": "code",
      "execution_count": 3,
      "metadata": {
        "id": "wdrwUJ7BeclH"
      },
      "outputs": [],
      "source": [
        "df = pd.read_csv(\"./Bank.csv\")"
      ]
    },
    {
      "cell_type": "code",
      "execution_count": 4,
      "metadata": {
        "id": "JZI98gh1epxz"
      },
      "outputs": [],
      "source": [
        "df = df.drop(['RowNumber', 'Surname', 'CustomerId'], axis= 1) #Dropping the unnecessary columns "
      ]
    },
    {
      "cell_type": "code",
      "execution_count": 5,
      "metadata": {
        "id": "xrn9qXkfew3r"
      },
      "outputs": [],
      "source": [
        "X = df[['CreditScore','Gender','Age','Tenure','Balance','NumOfProducts','HasCrCard','IsActiveMember','EstimatedSalary']]\n",
        "states = pd.get_dummies(df['Geography'],drop_first = True)\n",
        "gender = pd.get_dummies(df['Gender'],drop_first = True)"
      ]
    },
    {
      "cell_type": "code",
      "execution_count": 6,
      "metadata": {
        "id": "lObdUk7dfCfN"
      },
      "outputs": [],
      "source": [
        "\n",
        "df = pd.concat([df,gender,states], axis = 1)"
      ]
    },
    {
      "cell_type": "code",
      "execution_count": 7,
      "metadata": {
        "id": "tUB9GwiefGp6"
      },
      "outputs": [],
      "source": [
        "X = df[['CreditScore','Age','Tenure','Balance','NumOfProducts','HasCrCard','IsActiveMember','EstimatedSalary','Male','Germany','Spain']]"
      ]
    },
    {
      "cell_type": "code",
      "execution_count": 8,
      "metadata": {
        "id": "gACzmJ26fKfF"
      },
      "outputs": [],
      "source": [
        "y = df['Exited']"
      ]
    },
    {
      "cell_type": "code",
      "execution_count": 9,
      "metadata": {
        "id": "OxOIi_ObfMow"
      },
      "outputs": [],
      "source": [
        "from sklearn.model_selection import train_test_split\n",
        "X_train,X_test,y_train,y_test = train_test_split(X,y,test_size = 0.30)"
      ]
    },
    {
      "cell_type": "code",
      "execution_count": 10,
      "metadata": {
        "id": "_XxMnTv3fOlK"
      },
      "outputs": [],
      "source": [
        "from sklearn.preprocessing import StandardScaler\n",
        "sc = StandardScaler()"
      ]
    },
    {
      "cell_type": "code",
      "execution_count": 11,
      "metadata": {
        "id": "iOH9e4g7fQfE"
      },
      "outputs": [],
      "source": [
        "X_train  = sc.fit_transform(X_train)\n",
        "X_test = sc.transform(X_test)"
      ]
    },
    {
      "cell_type": "code",
      "execution_count": 1,
      "metadata": {
        "id": "rynP4tV3fSbz"
      },
      "outputs": [
        {
          "name": "stderr",
          "output_type": "stream",
          "text": [
            "UsageError: Line magic function `%` not found.\n"
          ]
        }
      ],
      "source": [
        "% pip install keras\n",
        "from keras import * #Keras is the wrapper on the top of tenserflow\n",
        "from keras.models import * #Keras is the wrapper on the top of tenserflow\n",
        "from keras.layers import * #Keras is the wrapper on the top of tenserflow\n"
      ]
    },
    {
      "cell_type": "code",
      "execution_count": 2,
      "metadata": {
        "id": "O6-IaQc-fV8S"
      },
      "outputs": [
        {
          "ename": "",
          "evalue": "",
          "output_type": "error",
          "traceback": [
            "\u001b[1;31mThe Kernel crashed while executing code in the the current cell or a previous cell. Please review the code in the cell(s) to identify a possible cause of the failure. Click <a href='https://aka.ms/vscodeJupyterKernelCrash'>here</a> for more info. View Jupyter <a href='command:jupyter.viewOutput'>log</a> for further details."
          ]
        },
        {
          "ename": "",
          "evalue": "",
          "output_type": "error",
          "traceback": [
            "\u001b[1;31mCanceled future for execute_request message before replies were done"
          ]
        }
      ],
      "source": [
        "from keras.models import Sequential #To create sequential neural network\n",
        "from keras.layers import Dense #To create hidden layers\n"
      ]
    },
    {
      "cell_type": "code",
      "execution_count": 3,
      "metadata": {
        "id": "GPLNde92fdA6"
      },
      "outputs": [
        {
          "ename": "NameError",
          "evalue": "name 'Sequential' is not defined",
          "output_type": "error",
          "traceback": [
            "\u001b[0;31m---------------------------------------------------------------------------\u001b[0m",
            "\u001b[0;31mNameError\u001b[0m                                 Traceback (most recent call last)",
            "Cell \u001b[0;32mIn [3], line 1\u001b[0m\n\u001b[0;32m----> 1\u001b[0m classifier \u001b[39m=\u001b[39m Sequential()\n",
            "\u001b[0;31mNameError\u001b[0m: name 'Sequential' is not defined"
          ]
        }
      ],
      "source": [
        "classifier = Sequential()"
      ]
    },
    {
      "cell_type": "code",
      "execution_count": 5,
      "metadata": {
        "id": "5NWVymTGfhWZ"
      },
      "outputs": [
        {
          "ename": "NameError",
          "evalue": "name 'classifier' is not defined",
          "output_type": "error",
          "traceback": [
            "\u001b[0;31m---------------------------------------------------------------------------\u001b[0m",
            "\u001b[0;31mNameError\u001b[0m                                 Traceback (most recent call last)",
            "Cell \u001b[0;32mIn [5], line 1\u001b[0m\n\u001b[0;32m----> 1\u001b[0m classifier\u001b[39m.\u001b[39madd(Dense(activation \u001b[39m=\u001b[39m \u001b[39m\"\u001b[39m\u001b[39mrelu\u001b[39m\u001b[39m\"\u001b[39m,input_dim \u001b[39m=\u001b[39m \u001b[39m11\u001b[39m,units \u001b[39m=\u001b[39m \u001b[39m6\u001b[39m,kernel_initializer \u001b[39m=\u001b[39m \u001b[39m\"\u001b[39m\u001b[39muniform\u001b[39m\u001b[39m\"\u001b[39m)) \n",
            "\u001b[0;31mNameError\u001b[0m: name 'classifier' is not defined"
          ]
        }
      ],
      "source": [
        "classifier.add(Dense(activation = \"relu\",input_dim = 11,units = 6,kernel_initializer = \"uniform\")) "
      ]
    },
    {
      "cell_type": "code",
      "execution_count": 6,
      "metadata": {
        "id": "hLUv-lQRfrSN"
      },
      "outputs": [
        {
          "ename": "NameError",
          "evalue": "name 'classifier' is not defined",
          "output_type": "error",
          "traceback": [
            "\u001b[0;31m---------------------------------------------------------------------------\u001b[0m",
            "\u001b[0;31mNameError\u001b[0m                                 Traceback (most recent call last)",
            "Cell \u001b[0;32mIn [6], line 1\u001b[0m\n\u001b[0;32m----> 1\u001b[0m classifier\u001b[39m.\u001b[39madd(Dense(activation \u001b[39m=\u001b[39m \u001b[39m\"\u001b[39m\u001b[39mrelu\u001b[39m\u001b[39m\"\u001b[39m,units \u001b[39m=\u001b[39m \u001b[39m6\u001b[39m,kernel_initializer \u001b[39m=\u001b[39m \u001b[39m\"\u001b[39m\u001b[39muniform\u001b[39m\u001b[39m\"\u001b[39m))   \u001b[39m#Adding second hidden layers\u001b[39;00m\n",
            "\u001b[0;31mNameError\u001b[0m: name 'classifier' is not defined"
          ]
        }
      ],
      "source": [
        "classifier.add(Dense(activation = \"relu\",units = 6,kernel_initializer = \"uniform\"))   #Adding second hidden layers"
      ]
    },
    {
      "cell_type": "code",
      "execution_count": 7,
      "metadata": {
        "id": "1LvEn75UfvpA"
      },
      "outputs": [
        {
          "ename": "NameError",
          "evalue": "name 'classifier' is not defined",
          "output_type": "error",
          "traceback": [
            "\u001b[0;31m---------------------------------------------------------------------------\u001b[0m",
            "\u001b[0;31mNameError\u001b[0m                                 Traceback (most recent call last)",
            "Cell \u001b[0;32mIn [7], line 1\u001b[0m\n\u001b[0;32m----> 1\u001b[0m classifier\u001b[39m.\u001b[39madd(Dense(activation \u001b[39m=\u001b[39m \u001b[39m\"\u001b[39m\u001b[39msigmoid\u001b[39m\u001b[39m\"\u001b[39m,units \u001b[39m=\u001b[39m \u001b[39m1\u001b[39m,kernel_initializer \u001b[39m=\u001b[39m \u001b[39m\"\u001b[39m\u001b[39muniform\u001b[39m\u001b[39m\"\u001b[39m)) \u001b[39m#Final neuron will be having siigmoid function\u001b[39;00m\n",
            "\u001b[0;31mNameError\u001b[0m: name 'classifier' is not defined"
          ]
        }
      ],
      "source": [
        "classifier.add(Dense(activation = \"sigmoid\",units = 1,kernel_initializer = \"uniform\")) #Final neuron will be having siigmoid function"
      ]
    },
    {
      "cell_type": "code",
      "execution_count": null,
      "metadata": {
        "id": "LLMNqqjSfzHp"
      },
      "outputs": [],
      "source": [
        "classifier.compile(optimizer=\"adam\",loss = 'binary_crossentropy',metrics = ['accuracy']) #To compile the Artificial Neural Network. Ussed Binary crossentropy as we just have only two output"
      ]
    },
    {
      "cell_type": "code",
      "execution_count": null,
      "metadata": {
        "colab": {
          "base_uri": "https://localhost:8080/"
        },
        "id": "tIS8GjCbf1tL",
        "outputId": "286bc749-e0aa-406a-da2e-de57485f169a"
      },
      "outputs": [
        {
          "name": "stdout",
          "output_type": "stream",
          "text": [
            "Model: \"sequential\"\n",
            "_________________________________________________________________\n",
            " Layer (type)                Output Shape              Param #   \n",
            "=================================================================\n",
            " dense (Dense)               (None, 6)                 72        \n",
            "                                                                 \n",
            " dense_1 (Dense)             (None, 6)                 42        \n",
            "                                                                 \n",
            " dense_2 (Dense)             (None, 1)                 7         \n",
            "                                                                 \n",
            "=================================================================\n",
            "Total params: 121\n",
            "Trainable params: 121\n",
            "Non-trainable params: 0\n",
            "_________________________________________________________________\n"
          ]
        }
      ],
      "source": [
        "classifier.summary() #3 layers created. 6 neurons in 1st,6neurons in 2nd layer and 1 neuron in last"
      ]
    },
    {
      "cell_type": "code",
      "execution_count": null,
      "metadata": {
        "colab": {
          "base_uri": "https://localhost:8080/"
        },
        "id": "2dqt4TGVf7J6",
        "outputId": "db43bd2e-62f6-4d7f-b1f1-8e4664158bdb"
      },
      "outputs": [
        {
          "name": "stdout",
          "output_type": "stream",
          "text": [
            "Epoch 1/50\n",
            "700/700 [==============================] - 2s 1ms/step - loss: 0.4959 - accuracy: 0.7951\n",
            "Epoch 2/50\n",
            "700/700 [==============================] - 1s 974us/step - loss: 0.4280 - accuracy: 0.7954\n",
            "Epoch 3/50\n",
            "700/700 [==============================] - 1s 1ms/step - loss: 0.4223 - accuracy: 0.7954\n",
            "Epoch 4/50\n",
            "700/700 [==============================] - 1s 1ms/step - loss: 0.4187 - accuracy: 0.8104\n",
            "Epoch 5/50\n",
            "700/700 [==============================] - 1s 985us/step - loss: 0.4157 - accuracy: 0.8266\n",
            "Epoch 6/50\n",
            "700/700 [==============================] - 1s 1ms/step - loss: 0.4140 - accuracy: 0.8287\n",
            "Epoch 7/50\n",
            "700/700 [==============================] - 1s 1ms/step - loss: 0.4121 - accuracy: 0.8306\n",
            "Epoch 8/50\n",
            "700/700 [==============================] - 1s 986us/step - loss: 0.4105 - accuracy: 0.8337\n",
            "Epoch 9/50\n",
            "700/700 [==============================] - 1s 983us/step - loss: 0.4095 - accuracy: 0.8326\n",
            "Epoch 10/50\n",
            "700/700 [==============================] - 1s 979us/step - loss: 0.4083 - accuracy: 0.8354\n",
            "Epoch 11/50\n",
            "700/700 [==============================] - 1s 977us/step - loss: 0.4072 - accuracy: 0.8337\n",
            "Epoch 12/50\n",
            "700/700 [==============================] - 1s 978us/step - loss: 0.4068 - accuracy: 0.8339\n",
            "Epoch 13/50\n",
            "700/700 [==============================] - 1s 983us/step - loss: 0.4063 - accuracy: 0.8359\n",
            "Epoch 14/50\n",
            "700/700 [==============================] - 1s 977us/step - loss: 0.4057 - accuracy: 0.8356\n",
            "Epoch 15/50\n",
            "700/700 [==============================] - 1s 978us/step - loss: 0.4052 - accuracy: 0.8354\n",
            "Epoch 16/50\n",
            "700/700 [==============================] - 1s 993us/step - loss: 0.4042 - accuracy: 0.8343\n",
            "Epoch 17/50\n",
            "700/700 [==============================] - 1s 996us/step - loss: 0.4040 - accuracy: 0.8369\n",
            "Epoch 18/50\n",
            "700/700 [==============================] - 1s 976us/step - loss: 0.4030 - accuracy: 0.8356\n",
            "Epoch 19/50\n",
            "700/700 [==============================] - 1s 1ms/step - loss: 0.4030 - accuracy: 0.8353\n",
            "Epoch 20/50\n",
            "700/700 [==============================] - 1s 2ms/step - loss: 0.4028 - accuracy: 0.8350\n",
            "Epoch 21/50\n",
            "700/700 [==============================] - 1s 982us/step - loss: 0.4027 - accuracy: 0.8357\n",
            "Epoch 22/50\n",
            "700/700 [==============================] - 1s 961us/step - loss: 0.4021 - accuracy: 0.8369\n",
            "Epoch 23/50\n",
            "700/700 [==============================] - 1s 969us/step - loss: 0.4017 - accuracy: 0.8369\n",
            "Epoch 24/50\n",
            "700/700 [==============================] - 1s 1ms/step - loss: 0.4017 - accuracy: 0.8367\n",
            "Epoch 25/50\n",
            "700/700 [==============================] - 1s 979us/step - loss: 0.4013 - accuracy: 0.8366\n",
            "Epoch 26/50\n",
            "700/700 [==============================] - 1s 983us/step - loss: 0.4017 - accuracy: 0.8370\n",
            "Epoch 27/50\n",
            "700/700 [==============================] - 1s 991us/step - loss: 0.4013 - accuracy: 0.8354\n",
            "Epoch 28/50\n",
            "700/700 [==============================] - 1s 974us/step - loss: 0.4009 - accuracy: 0.8369\n",
            "Epoch 29/50\n",
            "700/700 [==============================] - 1s 994us/step - loss: 0.4013 - accuracy: 0.8366\n",
            "Epoch 30/50\n",
            "700/700 [==============================] - 1s 987us/step - loss: 0.4010 - accuracy: 0.8371\n",
            "Epoch 31/50\n",
            "700/700 [==============================] - 1s 979us/step - loss: 0.4009 - accuracy: 0.8349\n",
            "Epoch 32/50\n",
            "700/700 [==============================] - 1s 964us/step - loss: 0.4004 - accuracy: 0.8363\n",
            "Epoch 33/50\n",
            "700/700 [==============================] - 1s 979us/step - loss: 0.4006 - accuracy: 0.8347\n",
            "Epoch 34/50\n",
            "700/700 [==============================] - 1s 997us/step - loss: 0.4003 - accuracy: 0.8361\n",
            "Epoch 35/50\n",
            "700/700 [==============================] - 1s 1ms/step - loss: 0.4005 - accuracy: 0.8376\n",
            "Epoch 36/50\n",
            "700/700 [==============================] - 1s 991us/step - loss: 0.4001 - accuracy: 0.8354\n",
            "Epoch 37/50\n",
            "700/700 [==============================] - 1s 979us/step - loss: 0.4000 - accuracy: 0.8356\n",
            "Epoch 38/50\n",
            "700/700 [==============================] - 1s 1ms/step - loss: 0.3997 - accuracy: 0.8366\n",
            "Epoch 39/50\n",
            "700/700 [==============================] - 1s 963us/step - loss: 0.3999 - accuracy: 0.8359\n",
            "Epoch 40/50\n",
            "700/700 [==============================] - 1s 979us/step - loss: 0.3998 - accuracy: 0.8349\n",
            "Epoch 41/50\n",
            "700/700 [==============================] - 1s 969us/step - loss: 0.3997 - accuracy: 0.8336\n",
            "Epoch 42/50\n",
            "700/700 [==============================] - 1s 985us/step - loss: 0.3998 - accuracy: 0.8364\n",
            "Epoch 43/50\n",
            "700/700 [==============================] - 1s 1ms/step - loss: 0.3999 - accuracy: 0.8364\n",
            "Epoch 44/50\n",
            "700/700 [==============================] - 1s 999us/step - loss: 0.3997 - accuracy: 0.8344\n",
            "Epoch 45/50\n",
            "700/700 [==============================] - 1s 981us/step - loss: 0.3992 - accuracy: 0.8364\n",
            "Epoch 46/50\n",
            "700/700 [==============================] - 1s 983us/step - loss: 0.3993 - accuracy: 0.8376\n",
            "Epoch 47/50\n",
            "700/700 [==============================] - 1s 1ms/step - loss: 0.3990 - accuracy: 0.8363\n",
            "Epoch 48/50\n",
            "700/700 [==============================] - 1s 995us/step - loss: 0.3993 - accuracy: 0.8361\n",
            "Epoch 49/50\n",
            "700/700 [==============================] - 1s 1ms/step - loss: 0.3998 - accuracy: 0.8354\n",
            "Epoch 50/50\n",
            "700/700 [==============================] - 1s 980us/step - loss: 0.3993 - accuracy: 0.8364\n"
          ]
        },
        {
          "data": {
            "text/plain": [
              "<keras.callbacks.History at 0x7f9ebd124a50>"
            ]
          },
          "execution_count": 20,
          "metadata": {},
          "output_type": "execute_result"
        }
      ],
      "source": [
        "classifier.fit(X_train,y_train,batch_size=10,epochs=50) #Fitting the ANN to training dataset"
      ]
    },
    {
      "cell_type": "code",
      "execution_count": null,
      "metadata": {
        "colab": {
          "base_uri": "https://localhost:8080/"
        },
        "id": "b9r6yY6Df-hQ",
        "outputId": "939113b9-b1a8-42c2-c514-4163d4e6b876"
      },
      "outputs": [
        {
          "name": "stdout",
          "output_type": "stream",
          "text": [
            "94/94 [==============================] - 0s 2ms/step\n"
          ]
        }
      ],
      "source": [
        "y_pred =classifier.predict(X_test)\n",
        "y_pred = (y_pred > 0.5) #Predicting the result"
      ]
    },
    {
      "cell_type": "code",
      "execution_count": null,
      "metadata": {
        "id": "kNvzlWtrgiJT"
      },
      "outputs": [],
      "source": [
        "from sklearn.metrics import confusion_matrix,accuracy_score,classification_report"
      ]
    },
    {
      "cell_type": "code",
      "execution_count": null,
      "metadata": {
        "id": "N3hSnqv6glXD"
      },
      "outputs": [],
      "source": [
        "cm = confusion_matrix(y_test,y_pred)"
      ]
    },
    {
      "cell_type": "code",
      "execution_count": null,
      "metadata": {
        "colab": {
          "base_uri": "https://localhost:8080/"
        },
        "id": "Eg9CfMOqgocz",
        "outputId": "25b51acd-181d-49f5-a6ed-30412a8ebad6"
      },
      "outputs": [
        {
          "data": {
            "text/plain": [
              "0.8326666666666667"
            ]
          },
          "execution_count": 26,
          "metadata": {},
          "output_type": "execute_result"
        }
      ],
      "source": [
        "accuracy = accuracy_score(y_test,y_pred)\n",
        "accuracy"
      ]
    },
    {
      "cell_type": "code",
      "execution_count": null,
      "metadata": {
        "colab": {
          "base_uri": "https://localhost:8080/",
          "height": 459
        },
        "id": "0x9eQo41grJk",
        "outputId": "d0f5261f-b269-4a76-cb28-579e6602bdaf"
      },
      "outputs": [
        {
          "data": {
            "text/plain": [
              "Text(69.0, 0.5, 'Truth')"
            ]
          },
          "execution_count": 25,
          "metadata": {},
          "output_type": "execute_result"
        },
        {
          "data": {
            "image/png": "[encoded data removed]",
            "text/plain": [
              "<Figure size 720x504 with 2 Axes>"
            ]
          },
          "metadata": {
            "needs_background": "light"
          },
          "output_type": "display_data"
        }
      ],
      "source": [
        "plt.figure(figsize = (10,7))\n",
        "sns.heatmap(cm,annot = True)\n",
        "plt.xlabel('Predicted')\n",
        "plt.ylabel('Truth')"
      ]
    },
    {
      "cell_type": "code",
      "execution_count": null,
      "metadata": {
        "colab": {
          "base_uri": "https://localhost:8080/"
        },
        "id": "mwyCSgylgvbK",
        "outputId": "998df129-ce6f-492a-9dee-3fc8d5e670c0"
      },
      "outputs": [
        {
          "name": "stdout",
          "output_type": "stream",
          "text": [
            "              precision    recall  f1-score   support\n",
            "\n",
            "           0       0.85      0.96      0.90      2395\n",
            "           1       0.67      0.33      0.44       605\n",
            "\n",
            "    accuracy                           0.83      3000\n",
            "   macro avg       0.76      0.64      0.67      3000\n",
            "weighted avg       0.81      0.83      0.81      3000\n",
            "\n"
          ]
        }
      ],
      "source": [
        "print(classification_report(y_test,y_pred))"
      ]
    },
    {
      "cell_type": "code",
      "execution_count": null,
      "metadata": {
        "id": "Zg0mLhoag2e7"
      },
      "outputs": [],
      "source": []
    }
  ],
  "metadata": {
    "colab": {
      "provenance": []
    },
    "kernelspec": {
      "display_name": "Python 3.9.0 64-bit",
      "language": "python",
      "name": "python3"
    },
    "language_info": {
      "codemirror_mode": {
        "name": "ipython",
        "version": 3
      },
      "file_extension": ".py",
      "mimetype": "text/x-python",
      "name": "python",
      "nbconvert_exporter": "python",
      "pygments_lexer": "ipython3",
      "version": "3.9.0"
    },
    "vscode": {
      "interpreter": {
        "hash": "7812ea015bdcee6f23a998adcdd2ef97c151c0c241b7b7070987d9313e41299d"
      }
    }
  },
  "nbformat": 4,
  "nbformat_minor": 0
}
